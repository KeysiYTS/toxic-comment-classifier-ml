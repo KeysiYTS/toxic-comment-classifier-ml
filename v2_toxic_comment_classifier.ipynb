{
  "nbformat": 4,
  "nbformat_minor": 0,
  "metadata": {
    "colab": {
      "name": "v2_toxic_comment_classifier.ipynb",
      "provenance": [],
      "collapsed_sections": [
        "KGR7UlUMfsjR",
        "5smGoARG4Byg"
      ],
      "mount_file_id": "1upY61OtM0JVUbsCMKF-ESwOuFgS2YOlM",
      "authorship_tag": "ABX9TyPvp782vQrqX/88kaWXjLYX",
      "include_colab_link": true
    },
    "kernelspec": {
      "display_name": "Python 3",
      "name": "python3"
    },
    "language_info": {
      "name": "python"
    }
  },
  "cells": [
    {
      "cell_type": "markdown",
      "metadata": {
        "id": "view-in-github",
        "colab_type": "text"
      },
      "source": [
        "<a href=\"https://colab.research.google.com/github/KeysiYTS/toxic-comment-classifier-ml/blob/dev/v2_toxic_comment_classifier.ipynb\" target=\"_parent\"><img src=\"https://colab.research.google.com/assets/colab-badge.svg\" alt=\"Open In Colab\"/></a>"
      ]
    },
    {
      "cell_type": "markdown",
      "metadata": {
        "id": "KGR7UlUMfsjR"
      },
      "source": [
        "### About + References\n",
        "\n"
      ]
    },
    {
      "cell_type": "markdown",
      "metadata": {
        "id": "kS4OF-sYfNKl"
      },
      "source": [
        "From: [Kaggle Dataset](https://www.kaggle.com/c/jigsaw-toxic-comment-classification-challenge/data)  \n",
        "\n",
        "File descriptions  \n",
        "- `train.csv` - the training set, contains comments with their binary labels  \n",
        "- `test.csv` - the test set, you must predict the toxicity probabilities for these comments. To deter hand labeling, the test set contains some comments which are not included in scoring.  \n",
        "- `test_labels.csv` - labels for the test data; value of -1 indicates it was not used for scoring; \n",
        "\n",
        "**References:**    \n",
        " - [Text Classification with Machine Learning & NLP](https://monkeylearn.com/text-classification/);  \n",
        " - [The Beginner’s Guide to Text Vectorization](https://monkeylearn.com/blog/beginners-guide-text-vectorization/);  \n",
        " - [Stop Words](https://en.wikipedia.org/wiki/Stop_word);  \n",
        " - [Stop Words in NLP](https://medium.com/@saitejaponugoti/stop-words-in-nlp-5b248dadad47#_=_)\n",
        " - [Go-to Guide for Text Classification with Machine Learning](https://monkeylearn.com/blog/text-classification-machine-learning/);  \n",
        " - [What is TF-IDF?](https://monkeylearn.com/blog/what-is-tf-idf/)\n",
        " - [scikit doc - Multiclass vs Multilabel](https://scikit-learn.org/stable/modules/multiclass.html)\n"
      ]
    },
    {
      "cell_type": "markdown",
      "metadata": {
        "id": "VpJo2yfRfv2t"
      },
      "source": [
        "### Importing the data"
      ]
    },
    {
      "cell_type": "code",
      "metadata": {
        "id": "SDeJbrfve51O"
      },
      "source": [
        "!pip install scikit-multilearn --quiet"
      ],
      "execution_count": null,
      "outputs": []
    },
    {
      "cell_type": "code",
      "metadata": {
        "id": "7xEJIzSjdZOh"
      },
      "source": [
        "import pandas as pd\n",
        "import time\n",
        "import re\n",
        "import matplotlib.pyplot as plt\n",
        "import seaborn as sns\n",
        "import nltk\n",
        "from nltk.corpus import stopwords\n",
        "\n",
        "from sklearn.metrics import accuracy_score, hamming_loss, roc_auc_score, roc_curve\n",
        "from sklearn.metrics import confusion_matrix\n",
        "from sklearn.model_selection import train_test_split\n",
        "from sklearn.feature_extraction.text import TfidfVectorizer\n",
        "from sklearn.linear_model import LogisticRegression\n",
        "from sklearn.tree import DecisionTreeClassifier\n",
        "from sklearn.naive_bayes import MultinomialNB, GaussianNB"
      ],
      "execution_count": null,
      "outputs": []
    },
    {
      "cell_type": "code",
      "metadata": {
        "id": "ndbVCNJqfPqN"
      },
      "source": [
        "# Multilabel model\n",
        "from skmultilearn.problem_transform import BinaryRelevance\n",
        "from skmultilearn.problem_transform import ClassifierChain\n",
        "from skmultilearn.problem_transform import LabelPowerset"
      ],
      "execution_count": null,
      "outputs": []
    },
    {
      "cell_type": "code",
      "metadata": {
        "id": "j-cAYgqbc7YU"
      },
      "source": [
        "dataset_path = '/content/drive/MyDrive/0. Machine Learning/Projetos/Toxic Comment/train.csv'"
      ],
      "execution_count": null,
      "outputs": []
    },
    {
      "cell_type": "code",
      "metadata": {
        "id": "5TSrdLZveOK8"
      },
      "source": [
        "dataset = pd.read_csv(dataset_path)"
      ],
      "execution_count": null,
      "outputs": []
    },
    {
      "cell_type": "markdown",
      "metadata": {
        "id": "MwFAQCRVetJf"
      },
      "source": [
        "### Exploring the `Train` Dataset"
      ]
    },
    {
      "cell_type": "code",
      "metadata": {
        "colab": {
          "base_uri": "https://localhost:8080/",
          "height": 195
        },
        "id": "z29G2zkXec8k",
        "outputId": "d38bcfa2-6e9d-485a-8e7d-a126c350a259"
      },
      "source": [
        "dataset.head()"
      ],
      "execution_count": null,
      "outputs": [
        {
          "output_type": "execute_result",
          "data": {
            "text/html": [
              "<div>\n",
              "<style scoped>\n",
              "    .dataframe tbody tr th:only-of-type {\n",
              "        vertical-align: middle;\n",
              "    }\n",
              "\n",
              "    .dataframe tbody tr th {\n",
              "        vertical-align: top;\n",
              "    }\n",
              "\n",
              "    .dataframe thead th {\n",
              "        text-align: right;\n",
              "    }\n",
              "</style>\n",
              "<table border=\"1\" class=\"dataframe\">\n",
              "  <thead>\n",
              "    <tr style=\"text-align: right;\">\n",
              "      <th></th>\n",
              "      <th>id</th>\n",
              "      <th>comment_text</th>\n",
              "      <th>toxic</th>\n",
              "      <th>severe_toxic</th>\n",
              "      <th>obscene</th>\n",
              "      <th>threat</th>\n",
              "      <th>insult</th>\n",
              "      <th>identity_hate</th>\n",
              "    </tr>\n",
              "  </thead>\n",
              "  <tbody>\n",
              "    <tr>\n",
              "      <th>0</th>\n",
              "      <td>0000997932d777bf</td>\n",
              "      <td>Explanation\\nWhy the edits made under my usern...</td>\n",
              "      <td>0</td>\n",
              "      <td>0</td>\n",
              "      <td>0</td>\n",
              "      <td>0</td>\n",
              "      <td>0</td>\n",
              "      <td>0</td>\n",
              "    </tr>\n",
              "    <tr>\n",
              "      <th>1</th>\n",
              "      <td>000103f0d9cfb60f</td>\n",
              "      <td>D'aww! He matches this background colour I'm s...</td>\n",
              "      <td>0</td>\n",
              "      <td>0</td>\n",
              "      <td>0</td>\n",
              "      <td>0</td>\n",
              "      <td>0</td>\n",
              "      <td>0</td>\n",
              "    </tr>\n",
              "    <tr>\n",
              "      <th>2</th>\n",
              "      <td>000113f07ec002fd</td>\n",
              "      <td>Hey man, I'm really not trying to edit war. It...</td>\n",
              "      <td>0</td>\n",
              "      <td>0</td>\n",
              "      <td>0</td>\n",
              "      <td>0</td>\n",
              "      <td>0</td>\n",
              "      <td>0</td>\n",
              "    </tr>\n",
              "    <tr>\n",
              "      <th>3</th>\n",
              "      <td>0001b41b1c6bb37e</td>\n",
              "      <td>\"\\nMore\\nI can't make any real suggestions on ...</td>\n",
              "      <td>0</td>\n",
              "      <td>0</td>\n",
              "      <td>0</td>\n",
              "      <td>0</td>\n",
              "      <td>0</td>\n",
              "      <td>0</td>\n",
              "    </tr>\n",
              "    <tr>\n",
              "      <th>4</th>\n",
              "      <td>0001d958c54c6e35</td>\n",
              "      <td>You, sir, are my hero. Any chance you remember...</td>\n",
              "      <td>0</td>\n",
              "      <td>0</td>\n",
              "      <td>0</td>\n",
              "      <td>0</td>\n",
              "      <td>0</td>\n",
              "      <td>0</td>\n",
              "    </tr>\n",
              "  </tbody>\n",
              "</table>\n",
              "</div>"
            ],
            "text/plain": [
              "                 id  ... identity_hate\n",
              "0  0000997932d777bf  ...             0\n",
              "1  000103f0d9cfb60f  ...             0\n",
              "2  000113f07ec002fd  ...             0\n",
              "3  0001b41b1c6bb37e  ...             0\n",
              "4  0001d958c54c6e35  ...             0\n",
              "\n",
              "[5 rows x 8 columns]"
            ]
          },
          "metadata": {
            "tags": []
          },
          "execution_count": 6
        }
      ]
    },
    {
      "cell_type": "markdown",
      "metadata": {
        "id": "2CGoMExcilLi"
      },
      "source": [
        "Checking the output variations"
      ]
    },
    {
      "cell_type": "code",
      "metadata": {
        "colab": {
          "base_uri": "https://localhost:8080/"
        },
        "id": "QVk9Ag7zhTTL",
        "outputId": "f2f11b1d-ab19-4a2a-e67d-5e6577c6e570"
      },
      "source": [
        "for col in dataset.columns[2:]:\n",
        "  print(dataset[col].unique())"
      ],
      "execution_count": null,
      "outputs": [
        {
          "output_type": "stream",
          "text": [
            "[0 1]\n",
            "[0 1]\n",
            "[0 1]\n",
            "[0 1]\n",
            "[0 1]\n",
            "[0 1]\n"
          ],
          "name": "stdout"
        }
      ]
    },
    {
      "cell_type": "code",
      "metadata": {
        "colab": {
          "base_uri": "https://localhost:8080/"
        },
        "id": "T_kfpM0ZekXU",
        "outputId": "c3e97be9-a1a4-4dbc-b18c-8add7ceb897e"
      },
      "source": [
        "dataset.info() , dataset.shape"
      ],
      "execution_count": null,
      "outputs": [
        {
          "output_type": "stream",
          "text": [
            "<class 'pandas.core.frame.DataFrame'>\n",
            "RangeIndex: 159571 entries, 0 to 159570\n",
            "Data columns (total 8 columns):\n",
            " #   Column         Non-Null Count   Dtype \n",
            "---  ------         --------------   ----- \n",
            " 0   id             159571 non-null  object\n",
            " 1   comment_text   159571 non-null  object\n",
            " 2   toxic          159571 non-null  int64 \n",
            " 3   severe_toxic   159571 non-null  int64 \n",
            " 4   obscene        159571 non-null  int64 \n",
            " 5   threat         159571 non-null  int64 \n",
            " 6   insult         159571 non-null  int64 \n",
            " 7   identity_hate  159571 non-null  int64 \n",
            "dtypes: int64(6), object(2)\n",
            "memory usage: 9.7+ MB\n"
          ],
          "name": "stdout"
        },
        {
          "output_type": "execute_result",
          "data": {
            "text/plain": [
              "(None, (159571, 8))"
            ]
          },
          "metadata": {
            "tags": []
          },
          "execution_count": 8
        }
      ]
    },
    {
      "cell_type": "code",
      "metadata": {
        "colab": {
          "base_uri": "https://localhost:8080/"
        },
        "id": "-hOhLFKi3XPE",
        "outputId": "3b20108d-7594-4438-e2ec-ca165b88da0f"
      },
      "source": [
        "output_distribution = dataset[dataset.columns[2:]].sum()\n",
        "output_distribution"
      ],
      "execution_count": null,
      "outputs": [
        {
          "output_type": "execute_result",
          "data": {
            "text/plain": [
              "toxic            15294\n",
              "severe_toxic      1595\n",
              "obscene           8449\n",
              "threat             478\n",
              "insult            7877\n",
              "identity_hate     1405\n",
              "dtype: int64"
            ]
          },
          "metadata": {
            "tags": []
          },
          "execution_count": 9
        }
      ]
    },
    {
      "cell_type": "code",
      "metadata": {
        "colab": {
          "base_uri": "https://localhost:8080/",
          "height": 519
        },
        "id": "jFlYCVdr4zKs",
        "outputId": "d965043c-6c77-4a4c-b077-2a08243b5f52"
      },
      "source": [
        "sns.set()\n",
        "plt.figure(figsize=(8,8))\n",
        "sns.barplot(x = dataset.columns[2:], y = output_distribution)\n",
        "plt.title('Comment Type Distribution')\n",
        "plt.xlabel('Type of Comment')\n",
        "plt.ylabel('Total of Comments')\n",
        "plt.show()"
      ],
      "execution_count": null,
      "outputs": [
        {
          "output_type": "display_data",
          "data": {
            "image/png": "[encoded data removed]",
            "text/plain": [
              "<Figure size 576x576 with 1 Axes>"
            ]
          },
          "metadata": {
            "tags": []
          }
        }
      ]
    },
    {
      "cell_type": "code",
      "metadata": {
        "colab": {
          "base_uri": "https://localhost:8080/"
        },
        "id": "8rO7c6hAF1Vq",
        "outputId": "01609d2d-1b2b-4ea1-a66f-4d53ae90bf73"
      },
      "source": [
        "# adding the columns. If the sum is > 1, the comment is multi labeled\n",
        "overlapping = dataset[dataset.columns[2:]].sum(axis=1)\n",
        "overlapping.value_counts()"
      ],
      "execution_count": null,
      "outputs": [
        {
          "output_type": "execute_result",
          "data": {
            "text/plain": [
              "0    143346\n",
              "1      6360\n",
              "3      4209\n",
              "2      3480\n",
              "4      1760\n",
              "5       385\n",
              "6        31\n",
              "dtype: int64"
            ]
          },
          "metadata": {
            "tags": []
          },
          "execution_count": 11
        }
      ]
    },
    {
      "cell_type": "code",
      "metadata": {
        "colab": {
          "base_uri": "https://localhost:8080/"
        },
        "id": "WHKHzsJf5RCo",
        "outputId": "217a878a-f63b-46c0-d288-1b0736f53258"
      },
      "source": [
        "sums = dataset[dataset.columns[2:]].sum(axis=1).value_counts()\n",
        "# Starting from 1 beacause 0 is the comments that are not in any labeled\n",
        "sums[1:].index, sums[1:].values"
      ],
      "execution_count": null,
      "outputs": [
        {
          "output_type": "execute_result",
          "data": {
            "text/plain": [
              "(Int64Index([1, 3, 2, 4, 5, 6], dtype='int64'),\n",
              " array([6360, 4209, 3480, 1760,  385,   31]))"
            ]
          },
          "metadata": {
            "tags": []
          },
          "execution_count": 12
        }
      ]
    },
    {
      "cell_type": "code",
      "metadata": {
        "colab": {
          "base_uri": "https://localhost:8080/",
          "height": 502
        },
        "id": "Lb8lVLdeDpFi",
        "outputId": "fd627678-8e35-4c31-8c7f-46e7d81753ae"
      },
      "source": [
        "plt.figure(figsize=(8,8))\n",
        "sns.barplot(x = sums.index[1:],y = sums[1:].values)\n",
        "plt.xlabel('Label Intersections')\n",
        "plt.ylabel('Total')\n",
        "plt.show()"
      ],
      "execution_count": null,
      "outputs": [
        {
          "output_type": "display_data",
          "data": {
            "image/png": "[encoded data removed]",
            "text/plain": [
              "<Figure size 576x576 with 1 Axes>"
            ]
          },
          "metadata": {
            "tags": []
          }
        }
      ]
    },
    {
      "cell_type": "markdown",
      "metadata": {
        "id": "sw45zmr9AulU"
      },
      "source": [
        "above we can see the intersections.That means that the same comment could be classified in more than 1 type\n"
      ]
    },
    {
      "cell_type": "markdown",
      "metadata": {
        "id": "qpABAWG3adYt"
      },
      "source": [
        "## Cleaning Data"
      ]
    },
    {
      "cell_type": "code",
      "metadata": {
        "id": "BAlRGEE0ahyc"
      },
      "source": [
        "def remove_spec_char(comment):\n",
        "  comment = re.sub(r'\\W+',' ', comment)\n",
        "  return comment"
      ],
      "execution_count": null,
      "outputs": []
    },
    {
      "cell_type": "markdown",
      "metadata": {
        "id": "A8TkBv9Icknb"
      },
      "source": [
        "Removing special characters"
      ]
    },
    {
      "cell_type": "code",
      "metadata": {
        "colab": {
          "base_uri": "https://localhost:8080/",
          "height": 213
        },
        "id": "yeL28xT5b7me",
        "outputId": "769bb307-3fd2-49eb-e66a-b749c3b92159"
      },
      "source": [
        "start = time.time()\n",
        "dataset['comment_text'] = dataset['comment_text'].apply(remove_spec_char)\n",
        "end = time.time()\n",
        "print(\"Process time: %.2f Seconds\" % (end-start))\n",
        "dataset.head()"
      ],
      "execution_count": null,
      "outputs": [
        {
          "output_type": "stream",
          "text": [
            "Process time: 3.88 Seconds\n"
          ],
          "name": "stdout"
        },
        {
          "output_type": "execute_result",
          "data": {
            "text/html": [
              "<div>\n",
              "<style scoped>\n",
              "    .dataframe tbody tr th:only-of-type {\n",
              "        vertical-align: middle;\n",
              "    }\n",
              "\n",
              "    .dataframe tbody tr th {\n",
              "        vertical-align: top;\n",
              "    }\n",
              "\n",
              "    .dataframe thead th {\n",
              "        text-align: right;\n",
              "    }\n",
              "</style>\n",
              "<table border=\"1\" class=\"dataframe\">\n",
              "  <thead>\n",
              "    <tr style=\"text-align: right;\">\n",
              "      <th></th>\n",
              "      <th>id</th>\n",
              "      <th>comment_text</th>\n",
              "      <th>toxic</th>\n",
              "      <th>severe_toxic</th>\n",
              "      <th>obscene</th>\n",
              "      <th>threat</th>\n",
              "      <th>insult</th>\n",
              "      <th>identity_hate</th>\n",
              "    </tr>\n",
              "  </thead>\n",
              "  <tbody>\n",
              "    <tr>\n",
              "      <th>0</th>\n",
              "      <td>0000997932d777bf</td>\n",
              "      <td>Explanation Why the edits made under my userna...</td>\n",
              "      <td>0</td>\n",
              "      <td>0</td>\n",
              "      <td>0</td>\n",
              "      <td>0</td>\n",
              "      <td>0</td>\n",
              "      <td>0</td>\n",
              "    </tr>\n",
              "    <tr>\n",
              "      <th>1</th>\n",
              "      <td>000103f0d9cfb60f</td>\n",
              "      <td>D aww He matches this background colour I m se...</td>\n",
              "      <td>0</td>\n",
              "      <td>0</td>\n",
              "      <td>0</td>\n",
              "      <td>0</td>\n",
              "      <td>0</td>\n",
              "      <td>0</td>\n",
              "    </tr>\n",
              "    <tr>\n",
              "      <th>2</th>\n",
              "      <td>000113f07ec002fd</td>\n",
              "      <td>Hey man I m really not trying to edit war It s...</td>\n",
              "      <td>0</td>\n",
              "      <td>0</td>\n",
              "      <td>0</td>\n",
              "      <td>0</td>\n",
              "      <td>0</td>\n",
              "      <td>0</td>\n",
              "    </tr>\n",
              "    <tr>\n",
              "      <th>3</th>\n",
              "      <td>0001b41b1c6bb37e</td>\n",
              "      <td>More I can t make any real suggestions on imp...</td>\n",
              "      <td>0</td>\n",
              "      <td>0</td>\n",
              "      <td>0</td>\n",
              "      <td>0</td>\n",
              "      <td>0</td>\n",
              "      <td>0</td>\n",
              "    </tr>\n",
              "    <tr>\n",
              "      <th>4</th>\n",
              "      <td>0001d958c54c6e35</td>\n",
              "      <td>You sir are my hero Any chance you remember wh...</td>\n",
              "      <td>0</td>\n",
              "      <td>0</td>\n",
              "      <td>0</td>\n",
              "      <td>0</td>\n",
              "      <td>0</td>\n",
              "      <td>0</td>\n",
              "    </tr>\n",
              "  </tbody>\n",
              "</table>\n",
              "</div>"
            ],
            "text/plain": [
              "                 id  ... identity_hate\n",
              "0  0000997932d777bf  ...             0\n",
              "1  000103f0d9cfb60f  ...             0\n",
              "2  000113f07ec002fd  ...             0\n",
              "3  0001b41b1c6bb37e  ...             0\n",
              "4  0001d958c54c6e35  ...             0\n",
              "\n",
              "[5 rows x 8 columns]"
            ]
          },
          "metadata": {
            "tags": []
          },
          "execution_count": 15
        }
      ]
    },
    {
      "cell_type": "markdown",
      "metadata": {
        "id": "CCUXxzG3cn0h"
      },
      "source": [
        "Converting all values to lowercase"
      ]
    },
    {
      "cell_type": "code",
      "metadata": {
        "colab": {
          "base_uri": "https://localhost:8080/",
          "height": 195
        },
        "id": "dLSAPZhDcr3e",
        "outputId": "74273c08-7af9-4956-94e4-58a89ec91bac"
      },
      "source": [
        "dataset['comment_text'] = dataset['comment_text'].str.lower()\n",
        "dataset.head()"
      ],
      "execution_count": null,
      "outputs": [
        {
          "output_type": "execute_result",
          "data": {
            "text/html": [
              "<div>\n",
              "<style scoped>\n",
              "    .dataframe tbody tr th:only-of-type {\n",
              "        vertical-align: middle;\n",
              "    }\n",
              "\n",
              "    .dataframe tbody tr th {\n",
              "        vertical-align: top;\n",
              "    }\n",
              "\n",
              "    .dataframe thead th {\n",
              "        text-align: right;\n",
              "    }\n",
              "</style>\n",
              "<table border=\"1\" class=\"dataframe\">\n",
              "  <thead>\n",
              "    <tr style=\"text-align: right;\">\n",
              "      <th></th>\n",
              "      <th>id</th>\n",
              "      <th>comment_text</th>\n",
              "      <th>toxic</th>\n",
              "      <th>severe_toxic</th>\n",
              "      <th>obscene</th>\n",
              "      <th>threat</th>\n",
              "      <th>insult</th>\n",
              "      <th>identity_hate</th>\n",
              "    </tr>\n",
              "  </thead>\n",
              "  <tbody>\n",
              "    <tr>\n",
              "      <th>0</th>\n",
              "      <td>0000997932d777bf</td>\n",
              "      <td>explanation why the edits made under my userna...</td>\n",
              "      <td>0</td>\n",
              "      <td>0</td>\n",
              "      <td>0</td>\n",
              "      <td>0</td>\n",
              "      <td>0</td>\n",
              "      <td>0</td>\n",
              "    </tr>\n",
              "    <tr>\n",
              "      <th>1</th>\n",
              "      <td>000103f0d9cfb60f</td>\n",
              "      <td>d aww he matches this background colour i m se...</td>\n",
              "      <td>0</td>\n",
              "      <td>0</td>\n",
              "      <td>0</td>\n",
              "      <td>0</td>\n",
              "      <td>0</td>\n",
              "      <td>0</td>\n",
              "    </tr>\n",
              "    <tr>\n",
              "      <th>2</th>\n",
              "      <td>000113f07ec002fd</td>\n",
              "      <td>hey man i m really not trying to edit war it s...</td>\n",
              "      <td>0</td>\n",
              "      <td>0</td>\n",
              "      <td>0</td>\n",
              "      <td>0</td>\n",
              "      <td>0</td>\n",
              "      <td>0</td>\n",
              "    </tr>\n",
              "    <tr>\n",
              "      <th>3</th>\n",
              "      <td>0001b41b1c6bb37e</td>\n",
              "      <td>more i can t make any real suggestions on imp...</td>\n",
              "      <td>0</td>\n",
              "      <td>0</td>\n",
              "      <td>0</td>\n",
              "      <td>0</td>\n",
              "      <td>0</td>\n",
              "      <td>0</td>\n",
              "    </tr>\n",
              "    <tr>\n",
              "      <th>4</th>\n",
              "      <td>0001d958c54c6e35</td>\n",
              "      <td>you sir are my hero any chance you remember wh...</td>\n",
              "      <td>0</td>\n",
              "      <td>0</td>\n",
              "      <td>0</td>\n",
              "      <td>0</td>\n",
              "      <td>0</td>\n",
              "      <td>0</td>\n",
              "    </tr>\n",
              "  </tbody>\n",
              "</table>\n",
              "</div>"
            ],
            "text/plain": [
              "                 id  ... identity_hate\n",
              "0  0000997932d777bf  ...             0\n",
              "1  000103f0d9cfb60f  ...             0\n",
              "2  000113f07ec002fd  ...             0\n",
              "3  0001b41b1c6bb37e  ...             0\n",
              "4  0001d958c54c6e35  ...             0\n",
              "\n",
              "[5 rows x 8 columns]"
            ]
          },
          "metadata": {
            "tags": []
          },
          "execution_count": 16
        }
      ]
    },
    {
      "cell_type": "markdown",
      "metadata": {
        "id": "5smGoARG4Byg"
      },
      "source": [
        "## Separating X and Y"
      ]
    },
    {
      "cell_type": "code",
      "metadata": {
        "id": "Qf-Rq0Zy5ZJY"
      },
      "source": [
        "dataset.drop(columns=['id'], inplace=True)"
      ],
      "execution_count": null,
      "outputs": []
    },
    {
      "cell_type": "code",
      "metadata": {
        "colab": {
          "base_uri": "https://localhost:8080/"
        },
        "id": "SFi8WwAA4EV0",
        "outputId": "ff0c6aba-0b31-41f0-df1b-3b8b6b3f8c87"
      },
      "source": [
        "x = dataset[['comment_text']]\n",
        "y = dataset.drop(columns=['comment_text'])\n",
        "x.shape, y.shape"
      ],
      "execution_count": null,
      "outputs": [
        {
          "output_type": "execute_result",
          "data": {
            "text/plain": [
              "((159571, 1), (159571, 6))"
            ]
          },
          "metadata": {
            "tags": []
          },
          "execution_count": 18
        }
      ]
    },
    {
      "cell_type": "code",
      "metadata": {
        "id": "-DuMuAMX4171"
      },
      "source": [
        "x_train, x_test, y_train, y_test = train_test_split(x, y,\n",
        "                                                    test_size=0.3,\n",
        "                                                    random_state=64)"
      ],
      "execution_count": null,
      "outputs": []
    },
    {
      "cell_type": "code",
      "metadata": {
        "colab": {
          "base_uri": "https://localhost:8080/"
        },
        "id": "ICV4XQma6aFj",
        "outputId": "f5fe0f3f-8e56-435e-e7b3-5635c3b3d5d2"
      },
      "source": [
        "x_train.shape, y_train.shape"
      ],
      "execution_count": null,
      "outputs": [
        {
          "output_type": "execute_result",
          "data": {
            "text/plain": [
              "((111699, 1), (111699, 6))"
            ]
          },
          "metadata": {
            "tags": []
          },
          "execution_count": 20
        }
      ]
    },
    {
      "cell_type": "markdown",
      "metadata": {
        "id": "esPtBckb7NDZ"
      },
      "source": [
        "## Converting the senteces"
      ]
    },
    {
      "cell_type": "code",
      "metadata": {
        "colab": {
          "base_uri": "https://localhost:8080/"
        },
        "id": "-PldyghWayZW",
        "outputId": "ae070979-3808-4a35-8f3b-efc3d2905bd5"
      },
      "source": [
        "#Downloads the module with the stop words\n",
        "nltk.download('stopwords', quiet=True)\n",
        "# Downloads the module that tokenize the sentece\n",
        "nltk.download('punkt', quiet=True)"
      ],
      "execution_count": null,
      "outputs": [
        {
          "output_type": "execute_result",
          "data": {
            "text/plain": [
              "True"
            ]
          },
          "metadata": {
            "tags": []
          },
          "execution_count": 21
        }
      ]
    },
    {
      "cell_type": "code",
      "metadata": {
        "id": "iBwV0Ekla0ie"
      },
      "source": [
        "sw_list = stopwords.words('english')"
      ],
      "execution_count": null,
      "outputs": []
    },
    {
      "cell_type": "markdown",
      "metadata": {
        "id": "UEINFonVa5XV"
      },
      "source": [
        "I will use a vectorizer that will remove stop words and prepare the dataset tot be fed into the model"
      ]
    },
    {
      "cell_type": "code",
      "metadata": {
        "id": "iIXmaSg8bJoX"
      },
      "source": [
        "def vectorizer(text_data, maxfeatures):\n",
        "  tfvec = TfidfVectorizer(stop_words=sw_list,\n",
        "                        max_features = maxfeatures,\n",
        "                        use_idf = True)\n",
        "  vectorized_text = tfvec.fit_transform(text_data)\n",
        "  return vectorized_text"
      ],
      "execution_count": null,
      "outputs": []
    },
    {
      "cell_type": "markdown",
      "metadata": {
        "id": "LERbiQJKegso"
      },
      "source": [
        "### Vectorizing the training data"
      ]
    },
    {
      "cell_type": "code",
      "metadata": {
        "colab": {
          "base_uri": "https://localhost:8080/"
        },
        "id": "6rTmBvs4bbW0",
        "outputId": "c2ae64c4-02d9-4339-f844-7a861c645545"
      },
      "source": [
        "start = time.time()\n",
        "x_train_vector = vectorizer(x_train['comment_text'], 800)\n",
        "end = time.time()\n",
        "print(\"Process time: %.2f Seconds\" % (end-start))"
      ],
      "execution_count": null,
      "outputs": [
        {
          "output_type": "stream",
          "text": [
            "Process time: 6.18 Seconds\n"
          ],
          "name": "stdout"
        }
      ]
    },
    {
      "cell_type": "code",
      "metadata": {
        "colab": {
          "base_uri": "https://localhost:8080/"
        },
        "id": "yIdrWDG1bmUW",
        "outputId": "df2d7ebb-8130-418c-a12f-e90ff5e5296f"
      },
      "source": [
        "x_train_vector"
      ],
      "execution_count": null,
      "outputs": [
        {
          "output_type": "execute_result",
          "data": {
            "text/plain": [
              "<111699x800 sparse matrix of type '<class 'numpy.float64'>'\n",
              "\twith 1634101 stored elements in Compressed Sparse Row format>"
            ]
          },
          "metadata": {
            "tags": []
          },
          "execution_count": 25
        }
      ]
    },
    {
      "cell_type": "markdown",
      "metadata": {
        "id": "wO1Yy3IVdEKW"
      },
      "source": [
        "SInce the vectorizer return a sparse matrix, I'll convert to an array to train the model "
      ]
    },
    {
      "cell_type": "code",
      "metadata": {
        "id": "_n-kwxKmdDe2"
      },
      "source": [
        "x_train_vector = x_train_vector.toarray()"
      ],
      "execution_count": null,
      "outputs": []
    },
    {
      "cell_type": "code",
      "metadata": {
        "colab": {
          "base_uri": "https://localhost:8080/"
        },
        "id": "Iwe9J-HcdNqI",
        "outputId": "e9b603aa-1ee5-4b81-cbaa-daf7948dbb98"
      },
      "source": [
        "len(x_train_vector)"
      ],
      "execution_count": null,
      "outputs": [
        {
          "output_type": "execute_result",
          "data": {
            "text/plain": [
              "111699"
            ]
          },
          "metadata": {
            "tags": []
          },
          "execution_count": 27
        }
      ]
    },
    {
      "cell_type": "markdown",
      "metadata": {
        "id": "ScTDEUmxej7x"
      },
      "source": [
        "### Vectorizing the Test Data"
      ]
    },
    {
      "cell_type": "code",
      "metadata": {
        "colab": {
          "base_uri": "https://localhost:8080/"
        },
        "id": "C7RwqqlGdOtJ",
        "outputId": "6d9a884e-352f-4f98-cd71-d4aa6c02c4e8"
      },
      "source": [
        "x_test_vector = vectorizer(x_test['comment_text'], 800)\n",
        "x_test_vector = x_test_vector.toarray()\n",
        "len(x_test_vector)"
      ],
      "execution_count": null,
      "outputs": [
        {
          "output_type": "execute_result",
          "data": {
            "text/plain": [
              "47872"
            ]
          },
          "metadata": {
            "tags": []
          },
          "execution_count": 28
        }
      ]
    },
    {
      "cell_type": "markdown",
      "metadata": {
        "id": "MDQ56I81ep5m"
      },
      "source": [
        "## Estimators"
      ]
    },
    {
      "cell_type": "code",
      "metadata": {
        "id": "yPtgIHgVhPdf"
      },
      "source": [
        "def timer():\n",
        "  time_now = time.time()\n",
        "  return time_now"
      ],
      "execution_count": null,
      "outputs": []
    },
    {
      "cell_type": "code",
      "metadata": {
        "id": "bo4xXIJKjVva"
      },
      "source": [
        "def model_accuracy(y_true, y_pred):\n",
        "  accuracy = accuracy_score(y_true, y_pred)\n",
        "  return print(\"The model accuracy is: %.2f%%\" % (accuracy*100))\n",
        "\n",
        "# Hamming Loss :Incorrect Predictions\n",
        "# The Lower the result the better\n",
        "def model_hamming_loss(y_true, y_pred):\n",
        "  hammingloss = hamming_loss(y_true, y_pred)\n",
        "  return print(\"The model hamming loss is: %.2f%%\" % (hammingloss*100))"
      ],
      "execution_count": null,
      "outputs": []
    },
    {
      "cell_type": "code",
      "metadata": {
        "id": "YphSvVOPltcT"
      },
      "source": [
        "def predictions(model, x_test):\n",
        "  model_prediction = model.predict(x_test)\n",
        "  # To see each prediction, convert it to array with `.toarray()`\n",
        "  return model_prediction"
      ],
      "execution_count": null,
      "outputs": []
    },
    {
      "cell_type": "code",
      "metadata": {
        "id": "JHQEQfHze8BW"
      },
      "source": [
        "def gen_roc_curve(y_test, y_pred):\n",
        "  curve_roc = roc_curve(y_test, y_pred)\n",
        "  score_roc = roc_auc_score(y_test, y_pred)\n",
        "  return curve_roc, score_roc"
      ],
      "execution_count": null,
      "outputs": []
    },
    {
      "cell_type": "markdown",
      "metadata": {
        "id": "VpuNPrd6f9sk"
      },
      "source": [
        "Binary relevance\n",
        "\n",
        "\n"
      ]
    },
    {
      "cell_type": "code",
      "metadata": {
        "id": "qLeG6xmlernP"
      },
      "source": [
        "def binary_relevance(model, x_train, y_train):\n",
        "  binary_relevance_clf = BinaryRelevance(model)\n",
        "  binary_relevance_clf.fit(x_train, y_train)\n",
        "  return binary_relevance_clf"
      ],
      "execution_count": null,
      "outputs": []
    },
    {
      "cell_type": "markdown",
      "metadata": {
        "id": "phL2vzh8knhB"
      },
      "source": [
        "Classifier Chain"
      ]
    },
    {
      "cell_type": "code",
      "metadata": {
        "id": "-59BQaumklSV"
      },
      "source": [
        "def classifier_chain(model, x_train, y_train):\n",
        "  classifier_chain_clf = ClassifierChain(model)\n",
        "  classifier_chain_clf.fit(x_train, y_train)\n",
        "  return classifier_chain_clf"
      ],
      "execution_count": null,
      "outputs": []
    },
    {
      "cell_type": "markdown",
      "metadata": {
        "id": "80ahYx_FoqY0"
      },
      "source": [
        "LabelPowerset"
      ]
    },
    {
      "cell_type": "code",
      "metadata": {
        "id": "bn5fQDDhokl2"
      },
      "source": [
        "def label_powerset(model, x_train, y_train):\n",
        "  label_powerset_clf = LabelPowerset(model)\n",
        "  label_powerset_clf.fit(x_train, y_train)\n",
        "  return label_powerset_clf"
      ],
      "execution_count": null,
      "outputs": []
    },
    {
      "cell_type": "markdown",
      "metadata": {
        "id": "XHIUdAzsjMr_"
      },
      "source": [
        "## Logistic Regression"
      ]
    },
    {
      "cell_type": "markdown",
      "metadata": {
        "id": "c96V3zZUlIJ3"
      },
      "source": [
        "### Binary relevance"
      ]
    },
    {
      "cell_type": "code",
      "metadata": {
        "colab": {
          "base_uri": "https://localhost:8080/"
        },
        "id": "mcCtfbsNgnMr",
        "outputId": "7d29ba79-ec1f-436b-b5f8-db1432952ff8"
      },
      "source": [
        "start = timer()\n",
        "Lregression = LogisticRegression(random_state=64)\n",
        "lregression_clf = binary_relevance(Lregression, x_train_vector, y_train)\n",
        "end = timer()\n",
        "print(\"Processing time: %.2f seconds\" % (end-start))"
      ],
      "execution_count": null,
      "outputs": [
        {
          "output_type": "stream",
          "text": [
            "Processing time: 85.85 seconds\n"
          ],
          "name": "stdout"
        }
      ]
    },
    {
      "cell_type": "code",
      "metadata": {
        "colab": {
          "base_uri": "https://localhost:8080/"
        },
        "id": "qeIGmy5Tg_er",
        "outputId": "afcea0bc-22b3-4d72-f70a-79def0556ebd"
      },
      "source": [
        "lregression_pred = predictions(lregression_clf, x_test_vector)\n",
        "model_accuracy(y_test, lregression_pred)\n",
        "model_hamming_loss(y_test, lregression_pred)"
      ],
      "execution_count": null,
      "outputs": [
        {
          "output_type": "stream",
          "text": [
            "The model accuracy is: 88.41%\n",
            "The model hamming loss is: 3.43%\n"
          ],
          "name": "stdout"
        }
      ]
    },
    {
      "cell_type": "code",
      "metadata": {
        "id": "P4q0HI1wcS9P"
      },
      "source": [
        "array_lregression_pred = lregression_pred.toarray()\n",
        "list_confusion_matrix = []\n",
        "for idx in range(6):\n",
        "  conf_matrix = confusion_matrix(y_test.iloc[:,idx], array_lregression_pred[:,idx])\n",
        "  list_confusion_matrix.append(conf_matrix)"
      ],
      "execution_count": null,
      "outputs": []
    },
    {
      "cell_type": "code",
      "metadata": {
        "colab": {
          "base_uri": "https://localhost:8080/",
          "height": 284
        },
        "id": "y6TV2LkBdXu9",
        "outputId": "4ae0cc99-7db5-4471-b1a7-5e6a4678822b"
      },
      "source": [
        "fig, (ax, ax2) = plt.subplots(2, 3)\n",
        "sns.set(rc={'figure.figsize':(13,8)})\n",
        "sns.heatmap(list_confusion_matrix[0],ax=ax[0], linecolor='black', linewidths=.1, annot=True, fmt='d').set_title('Toxic')\n",
        "sns.heatmap(list_confusion_matrix[1],ax=ax[1], linecolor='black', linewidths=.1, annot=True, fmt='d').set_title('severe_toxic')\n",
        "sns.heatmap(list_confusion_matrix[2],ax=ax[2], linecolor='black', linewidths=.1, annot=True, fmt='d').set_title('obscene')\n",
        "sns.heatmap(list_confusion_matrix[3],ax=ax2[0], linecolor='black', linewidths=.1 ,annot=True, fmt='d').set_title('threat')\n",
        "sns.heatmap(list_confusion_matrix[4],ax=ax2[1], linecolor='black', linewidths=.1, annot=True, fmt='d').set_title('insult')\n",
        "sns.heatmap(list_confusion_matrix[5],ax=ax2[2], linecolor='black', linewidths=.1, annot=True, fmt='d').set_title('identity_hate')\n",
        "plt.show()"
      ],
      "execution_count": null,
      "outputs": [
        {
          "output_type": "display_data",
          "data": {
            "image/png": "[encoded data removed]",
            "text/plain": [
              "<Figure size 432x288 with 12 Axes>"
            ]
          },
          "metadata": {
            "tags": []
          }
        }
      ]
    },
    {
      "cell_type": "markdown",
      "metadata": {
        "id": "ZI2J-B3DlMbC"
      },
      "source": [
        "### Chain Classifier"
      ]
    },
    {
      "cell_type": "code",
      "metadata": {
        "colab": {
          "base_uri": "https://localhost:8080/"
        },
        "id": "PZggyniIlN6t",
        "outputId": "c509092f-74cd-4cd1-b925-304422fc2a5c"
      },
      "source": [
        "start = timer()\n",
        "# I've increased the max_iter because of ConvergenceWarning\n",
        "Lregression = LogisticRegression(random_state=64, max_iter = 300)\n",
        "lregression_clf = classifier_chain(Lregression, x_train_vector, y_train)\n",
        "end = timer()\n",
        "print(\"Processing time: %.2f seconds\" % (end-start))"
      ],
      "execution_count": null,
      "outputs": [
        {
          "output_type": "stream",
          "text": [
            "Processing time: 109.20 seconds\n"
          ],
          "name": "stdout"
        }
      ]
    },
    {
      "cell_type": "code",
      "metadata": {
        "colab": {
          "base_uri": "https://localhost:8080/"
        },
        "id": "kiITpphlnKZR",
        "outputId": "c5458667-269a-4103-e058-2e0c69478c55"
      },
      "source": [
        "lregression_pred = predictions(lregression_clf, x_test_vector)\n",
        "model_accuracy(y_test, lregression_pred)\n",
        "model_hamming_loss(y_test, lregression_pred)"
      ],
      "execution_count": null,
      "outputs": [
        {
          "output_type": "stream",
          "text": [
            "The model accuracy is: 88.65%\n",
            "The model hamming loss is: 3.46%\n"
          ],
          "name": "stdout"
        }
      ]
    },
    {
      "cell_type": "code",
      "metadata": {
        "colab": {
          "base_uri": "https://localhost:8080/",
          "height": 501
        },
        "id": "rBIwGIMX9B2v",
        "outputId": "10b47f6a-3905-40f0-c417-567637614d38"
      },
      "source": [
        "array_lregression_pred = lregression_pred.toarray()\n",
        "list_confusion_matrix = []\n",
        "for idx in range(6):\n",
        "  conf_matrix = confusion_matrix(y_test.iloc[:,idx], array_lregression_pred[:,idx])\n",
        "  list_confusion_matrix.append(conf_matrix)\n",
        "\n",
        "fig, (ax, ax2) = plt.subplots(2, 3)\n",
        "sns.set(rc={'figure.figsize':(13,8)})\n",
        "sns.heatmap(list_confusion_matrix[0],ax=ax[0], linecolor='black', linewidths=.1, annot=True, fmt='d').set_title('Toxic')\n",
        "sns.heatmap(list_confusion_matrix[1],ax=ax[1], linecolor='black', linewidths=.1, annot=True, fmt='d').set_title('severe_toxic')\n",
        "sns.heatmap(list_confusion_matrix[2],ax=ax[2], linecolor='black', linewidths=.1, annot=True, fmt='d').set_title('obscene')\n",
        "sns.heatmap(list_confusion_matrix[3],ax=ax2[0], linecolor='black', linewidths=.1 ,annot=True, fmt='d').set_title('threat')\n",
        "sns.heatmap(list_confusion_matrix[4],ax=ax2[1], linecolor='black', linewidths=.1, annot=True, fmt='d').set_title('insult')\n",
        "sns.heatmap(list_confusion_matrix[5],ax=ax2[2], linecolor='black', linewidths=.1, annot=True, fmt='d').set_title('identity_hate')\n",
        "plt.show()"
      ],
      "execution_count": null,
      "outputs": [
        {
          "output_type": "display_data",
          "data": {
            "image/png": "[encoded data removed]",
            "text/plain": [
              "<Figure size 936x576 with 12 Axes>"
            ]
          },
          "metadata": {
            "tags": []
          }
        }
      ]
    },
    {
      "cell_type": "markdown",
      "metadata": {
        "id": "HNPvDPgWo3QO"
      },
      "source": [
        "### Label Powerset"
      ]
    },
    {
      "cell_type": "code",
      "metadata": {
        "colab": {
          "base_uri": "https://localhost:8080/"
        },
        "id": "2-PB7s6qo4xc",
        "outputId": "c152b56b-433b-4dff-8be2-837c1f474a06"
      },
      "source": [
        "start = timer()\n",
        "# I've increased the max_iter because of ConvergenceWarning\n",
        "# it increased the process time considerably in powerset\n",
        "Lregression = LogisticRegression(random_state=64, max_iter = 300)\n",
        "lregression_clf = label_powerset(Lregression, x_train_vector, y_train)\n",
        "end = timer()\n",
        "print(\"Processing time: %.2f seconds\" % (end-start))"
      ],
      "execution_count": null,
      "outputs": [
        {
          "output_type": "stream",
          "text": [
            "Processing time: 351.15 seconds\n"
          ],
          "name": "stdout"
        }
      ]
    },
    {
      "cell_type": "code",
      "metadata": {
        "colab": {
          "base_uri": "https://localhost:8080/"
        },
        "id": "f3H_ctm4o-vt",
        "outputId": "0a5027b6-b95d-46bc-8b74-17261c2e174b"
      },
      "source": [
        "lregression_pred = predictions(lregression_clf, x_test_vector)\n",
        "model_accuracy(y_test, lregression_pred)\n",
        "model_hamming_loss(y_test, lregression_pred)"
      ],
      "execution_count": null,
      "outputs": [
        {
          "output_type": "stream",
          "text": [
            "The model accuracy is: 89.27%\n",
            "The model hamming loss is: 3.38%\n"
          ],
          "name": "stdout"
        }
      ]
    },
    {
      "cell_type": "code",
      "metadata": {
        "colab": {
          "base_uri": "https://localhost:8080/",
          "height": 501
        },
        "id": "BEz3_XMv9RKG",
        "outputId": "d7eecf2f-70f2-4f7b-d17e-7549d07f5eb0"
      },
      "source": [
        "array_lregression_pred = lregression_pred.toarray()\n",
        "list_confusion_matrix = []\n",
        "for idx in range(6):\n",
        "  conf_matrix = confusion_matrix(y_test.iloc[:,idx], array_lregression_pred[:,idx])\n",
        "  list_confusion_matrix.append(conf_matrix)\n",
        "\n",
        "fig, (ax, ax2) = plt.subplots(2, 3)\n",
        "sns.set(rc={'figure.figsize':(13,8)})\n",
        "sns.heatmap(list_confusion_matrix[0],ax=ax[0], linecolor='black', linewidths=.1, annot=True, fmt='d').set_title('Toxic')\n",
        "sns.heatmap(list_confusion_matrix[1],ax=ax[1], linecolor='black', linewidths=.1, annot=True, fmt='d').set_title('severe_toxic')\n",
        "sns.heatmap(list_confusion_matrix[2],ax=ax[2], linecolor='black', linewidths=.1, annot=True, fmt='d').set_title('obscene')\n",
        "sns.heatmap(list_confusion_matrix[3],ax=ax2[0], linecolor='black', linewidths=.1 ,annot=True, fmt='d').set_title('threat')\n",
        "sns.heatmap(list_confusion_matrix[4],ax=ax2[1], linecolor='black', linewidths=.1, annot=True, fmt='d').set_title('insult')\n",
        "sns.heatmap(list_confusion_matrix[5],ax=ax2[2], linecolor='black', linewidths=.1, annot=True, fmt='d').set_title('identity_hate')\n",
        "plt.show()"
      ],
      "execution_count": null,
      "outputs": [
        {
          "output_type": "display_data",
          "data": {
            "image/png": "[encoded data removed]",
            "text/plain": [
              "<Figure size 936x576 with 12 Axes>"
            ]
          },
          "metadata": {
            "tags": []
          }
        }
      ]
    },
    {
      "cell_type": "markdown",
      "metadata": {
        "id": "gxOqdSAgsxRp"
      },
      "source": [
        "## Decision Tree"
      ]
    },
    {
      "cell_type": "markdown",
      "metadata": {
        "id": "AUTBNLcPszME"
      },
      "source": [
        "### Binary Relevance"
      ]
    },
    {
      "cell_type": "code",
      "metadata": {
        "colab": {
          "base_uri": "https://localhost:8080/"
        },
        "id": "zm5Ce8uus3QJ",
        "outputId": "c8fc92c5-7421-40e2-ddeb-bc1a244768ee"
      },
      "source": [
        "start = timer()\n",
        "dtree = DecisionTreeClassifier(random_state=64, max_depth=50)\n",
        "dtree_clf = binary_relevance(dtree, x_train_vector, y_train)\n",
        "end = timer()\n",
        "print(\"Processing time: %.2f seconds\" % (end-start))"
      ],
      "execution_count": null,
      "outputs": [
        {
          "output_type": "stream",
          "text": [
            "Processing time: 622.62 seconds\n"
          ],
          "name": "stdout"
        }
      ]
    },
    {
      "cell_type": "code",
      "metadata": {
        "colab": {
          "base_uri": "https://localhost:8080/"
        },
        "id": "8I2Bp71UtM4e",
        "outputId": "f5f672b6-04eb-4c3f-b394-b42e1b4133eb"
      },
      "source": [
        "dtree_pred = predictions(dtree_clf, x_test_vector)\n",
        "model_accuracy(y_test, dtree_pred)\n",
        "model_hamming_loss(y_test, dtree_pred)"
      ],
      "execution_count": null,
      "outputs": [
        {
          "output_type": "stream",
          "text": [
            "The model accuracy is: 82.89%\n",
            "The model hamming loss is: 4.95%\n"
          ],
          "name": "stdout"
        }
      ]
    },
    {
      "cell_type": "code",
      "metadata": {
        "colab": {
          "base_uri": "https://localhost:8080/",
          "height": 501
        },
        "id": "FT720juM9T5S",
        "outputId": "388ad59a-e9b1-42ea-bd9c-dd6173f405d1"
      },
      "source": [
        "array_dtree_pred = dtree_pred.toarray()\n",
        "list_confusion_matrix = []\n",
        "for idx in range(6):\n",
        "  conf_matrix = confusion_matrix(y_test.iloc[:,idx], array_dtree_pred[:,idx])\n",
        "  list_confusion_matrix.append(conf_matrix)\n",
        "\n",
        "fig, (ax, ax2) = plt.subplots(2, 3)\n",
        "sns.set(rc={'figure.figsize':(13,8)})\n",
        "sns.heatmap(list_confusion_matrix[0],ax=ax[0], linecolor='black', linewidths=.1, annot=True, fmt='d').set_title('Toxic')\n",
        "sns.heatmap(list_confusion_matrix[1],ax=ax[1], linecolor='black', linewidths=.1, annot=True, fmt='d').set_title('severe_toxic')\n",
        "sns.heatmap(list_confusion_matrix[2],ax=ax[2], linecolor='black', linewidths=.1, annot=True, fmt='d').set_title('obscene')\n",
        "sns.heatmap(list_confusion_matrix[3],ax=ax2[0], linecolor='black', linewidths=.1 ,annot=True, fmt='d').set_title('threat')\n",
        "sns.heatmap(list_confusion_matrix[4],ax=ax2[1], linecolor='black', linewidths=.1, annot=True, fmt='d').set_title('insult')\n",
        "sns.heatmap(list_confusion_matrix[5],ax=ax2[2], linecolor='black', linewidths=.1, annot=True, fmt='d').set_title('identity_hate')\n",
        "plt.show()"
      ],
      "execution_count": null,
      "outputs": [
        {
          "output_type": "display_data",
          "data": {
            "image/png": "[encoded data removed]",
            "text/plain": [
              "<Figure size 936x576 with 12 Axes>"
            ]
          },
          "metadata": {
            "tags": []
          }
        }
      ]
    },
    {
      "cell_type": "markdown",
      "metadata": {
        "id": "O7fWgWVrwPxL"
      },
      "source": [
        "### Chain Classifier"
      ]
    },
    {
      "cell_type": "code",
      "metadata": {
        "colab": {
          "base_uri": "https://localhost:8080/"
        },
        "id": "3xavLWllwPQv",
        "outputId": "1af2bbb1-81a5-4fd9-d0dd-3fe7c4f574ae"
      },
      "source": [
        "start = timer()\n",
        "dtree = DecisionTreeClassifier(random_state=64, max_depth=50)\n",
        "dtree_clf = classifier_chain(dtree, x_train_vector, y_train)\n",
        "end = timer()\n",
        "print(\"Processing time: %.2f seconds\" % (end-start))"
      ],
      "execution_count": null,
      "outputs": [
        {
          "output_type": "stream",
          "text": [
            "Processing time: 176.21 seconds\n"
          ],
          "name": "stdout"
        }
      ]
    },
    {
      "cell_type": "code",
      "metadata": {
        "colab": {
          "base_uri": "https://localhost:8080/"
        },
        "id": "-W1xJR9YwVKj",
        "outputId": "4f92650e-5cdd-4417-dbea-0ae64398589e"
      },
      "source": [
        "dtree_pred = predictions(dtree_clf, x_test_vector)\n",
        "model_accuracy(y_test, dtree_pred)\n",
        "model_hamming_loss(y_test, dtree_pred)"
      ],
      "execution_count": null,
      "outputs": [
        {
          "output_type": "stream",
          "text": [
            "The model accuracy is: 84.29%\n",
            "The model hamming loss is: 4.77%\n"
          ],
          "name": "stdout"
        }
      ]
    },
    {
      "cell_type": "code",
      "metadata": {
        "colab": {
          "base_uri": "https://localhost:8080/",
          "height": 501
        },
        "id": "zMP1HCbt9uAk",
        "outputId": "d2174b1f-cb02-4e82-f206-36eeb067562c"
      },
      "source": [
        "array_dtree_pred = dtree_pred.toarray()\n",
        "list_confusion_matrix = []\n",
        "for idx in range(6):\n",
        "  conf_matrix = confusion_matrix(y_test.iloc[:,idx], array_dtree_pred[:,idx])\n",
        "  list_confusion_matrix.append(conf_matrix)\n",
        "\n",
        "fig, (ax, ax2) = plt.subplots(2, 3)\n",
        "sns.set(rc={'figure.figsize':(13,8)})\n",
        "sns.heatmap(list_confusion_matrix[0],ax=ax[0], linecolor='black', linewidths=.1, annot=True, fmt='d').set_title('Toxic')\n",
        "sns.heatmap(list_confusion_matrix[1],ax=ax[1], linecolor='black', linewidths=.1, annot=True, fmt='d').set_title('severe_toxic')\n",
        "sns.heatmap(list_confusion_matrix[2],ax=ax[2], linecolor='black', linewidths=.1, annot=True, fmt='d').set_title('obscene')\n",
        "sns.heatmap(list_confusion_matrix[3],ax=ax2[0], linecolor='black', linewidths=.1 ,annot=True, fmt='d').set_title('threat')\n",
        "sns.heatmap(list_confusion_matrix[4],ax=ax2[1], linecolor='black', linewidths=.1, annot=True, fmt='d').set_title('insult')\n",
        "sns.heatmap(list_confusion_matrix[5],ax=ax2[2], linecolor='black', linewidths=.1, annot=True, fmt='d').set_title('identity_hate')\n",
        "plt.show()"
      ],
      "execution_count": null,
      "outputs": [
        {
          "output_type": "display_data",
          "data": {
            "image/png": "[encoded data removed]",
            "text/plain": [
              "<Figure size 936x576 with 12 Axes>"
            ]
          },
          "metadata": {
            "tags": []
          }
        }
      ]
    },
    {
      "cell_type": "markdown",
      "metadata": {
        "id": "gyDTgQPewYIx"
      },
      "source": [
        "### Label Power Set"
      ]
    },
    {
      "cell_type": "code",
      "metadata": {
        "colab": {
          "base_uri": "https://localhost:8080/"
        },
        "id": "sYSyRkUZwb8C",
        "outputId": "7b78820d-f988-49f3-bd1f-abad6ab496f8"
      },
      "source": [
        "start = timer()\n",
        "dtree = DecisionTreeClassifier(random_state=64, max_depth=50)\n",
        "dtree_clf = label_powerset(dtree, x_train_vector, y_train)\n",
        "end = timer()\n",
        "print(\"Processing time: %.2f seconds\" % (end-start))"
      ],
      "execution_count": null,
      "outputs": [
        {
          "output_type": "stream",
          "text": [
            "Processing time: 146.04 seconds\n"
          ],
          "name": "stdout"
        }
      ]
    },
    {
      "cell_type": "code",
      "metadata": {
        "colab": {
          "base_uri": "https://localhost:8080/"
        },
        "id": "k13tZdU9wkP4",
        "outputId": "2e797b81-fd35-4481-cd5f-61d66460f000"
      },
      "source": [
        "dtree_pred = predictions(dtree_clf, x_test_vector)\n",
        "model_accuracy(y_test, dtree_pred)\n",
        "model_hamming_loss(y_test, dtree_pred)"
      ],
      "execution_count": null,
      "outputs": [
        {
          "output_type": "stream",
          "text": [
            "The model accuracy is: 85.12%\n",
            "The model hamming loss is: 4.70%\n"
          ],
          "name": "stdout"
        }
      ]
    },
    {
      "cell_type": "code",
      "metadata": {
        "colab": {
          "base_uri": "https://localhost:8080/",
          "height": 501
        },
        "id": "McB2BDlL-UII",
        "outputId": "5828a651-10ee-4b84-863f-31bdccc495b5"
      },
      "source": [
        "array_dtree_pred = dtree_pred.toarray()\n",
        "list_confusion_matrix = []\n",
        "for idx in range(6):\n",
        "  conf_matrix = confusion_matrix(y_test.iloc[:,idx], array_dtree_pred[:,idx])\n",
        "  list_confusion_matrix.append(conf_matrix)\n",
        "\n",
        "fig, (ax, ax2) = plt.subplots(2, 3)\n",
        "sns.set(rc={'figure.figsize':(13,8)})\n",
        "sns.heatmap(list_confusion_matrix[0],ax=ax[0], linecolor='black', linewidths=.1, annot=True, fmt='d').set_title('Toxic')\n",
        "sns.heatmap(list_confusion_matrix[1],ax=ax[1], linecolor='black', linewidths=.1, annot=True, fmt='d').set_title('severe_toxic')\n",
        "sns.heatmap(list_confusion_matrix[2],ax=ax[2], linecolor='black', linewidths=.1, annot=True, fmt='d').set_title('obscene')\n",
        "sns.heatmap(list_confusion_matrix[3],ax=ax2[0], linecolor='black', linewidths=.1 ,annot=True, fmt='d').set_title('threat')\n",
        "sns.heatmap(list_confusion_matrix[4],ax=ax2[1], linecolor='black', linewidths=.1, annot=True, fmt='d').set_title('insult')\n",
        "sns.heatmap(list_confusion_matrix[5],ax=ax2[2], linecolor='black', linewidths=.1, annot=True, fmt='d').set_title('identity_hate')\n",
        "plt.show()"
      ],
      "execution_count": null,
      "outputs": [
        {
          "output_type": "display_data",
          "data": {
            "image/png": "[encoded data removed]",
            "text/plain": [
              "<Figure size 936x576 with 12 Axes>"
            ]
          },
          "metadata": {
            "tags": []
          }
        }
      ]
    },
    {
      "cell_type": "markdown",
      "metadata": {
        "id": "KxOcCyfRQ5wx"
      },
      "source": [
        "## MultinomialNB"
      ]
    },
    {
      "cell_type": "markdown",
      "metadata": {
        "id": "y_z6YGH7WvXI"
      },
      "source": [
        "### Binary Relevance"
      ]
    },
    {
      "cell_type": "code",
      "metadata": {
        "colab": {
          "base_uri": "https://localhost:8080/"
        },
        "id": "jbYOOphXRHZ-",
        "outputId": "296374f7-be8a-4df4-852e-e0242c28a4b4"
      },
      "source": [
        "start = timer()\n",
        "mnb = MultinomialNB()\n",
        "mnb_clf = binary_relevance(mnb, x_train_vector, y_train)\n",
        "end = timer()\n",
        "print(\"Processing time: %.2f seconds\" % (end-start))"
      ],
      "execution_count": null,
      "outputs": [
        {
          "output_type": "stream",
          "text": [
            "Processing time: 5.76 seconds\n"
          ],
          "name": "stdout"
        }
      ]
    },
    {
      "cell_type": "code",
      "metadata": {
        "colab": {
          "base_uri": "https://localhost:8080/"
        },
        "id": "i2K6YLc3Wj4c",
        "outputId": "c1975168-1d0c-4917-dd62-7e25e4655ccf"
      },
      "source": [
        "mnb_pred = predictions(mnb_clf, x_test_vector)\n",
        "model_accuracy(y_test, mnb_pred)\n",
        "model_hamming_loss(y_test, mnb_pred)"
      ],
      "execution_count": null,
      "outputs": [
        {
          "output_type": "stream",
          "text": [
            "The model accuracy is: 89.46%\n",
            "The model hamming loss is: 3.33%\n"
          ],
          "name": "stdout"
        }
      ]
    },
    {
      "cell_type": "code",
      "metadata": {
        "colab": {
          "base_uri": "https://localhost:8080/",
          "height": 501
        },
        "id": "AorIgSm5-W7P",
        "outputId": "90ab8c44-8f99-415b-e014-31ca81b4ff4e"
      },
      "source": [
        "array_mnb_pred = mnb_pred.toarray()\n",
        "list_confusion_matrix = []\n",
        "for idx in range(6):\n",
        "  conf_matrix = confusion_matrix(y_test.iloc[:,idx], array_mnb_pred[:,idx])\n",
        "  list_confusion_matrix.append(conf_matrix)\n",
        "\n",
        "fig, (ax, ax2) = plt.subplots(2, 3)\n",
        "sns.set(rc={'figure.figsize':(13,8)})\n",
        "sns.heatmap(list_confusion_matrix[0],ax=ax[0], linecolor='black', linewidths=.1, annot=True, fmt='d').set_title('Toxic')\n",
        "sns.heatmap(list_confusion_matrix[1],ax=ax[1], linecolor='black', linewidths=.1, annot=True, fmt='d').set_title('severe_toxic')\n",
        "sns.heatmap(list_confusion_matrix[2],ax=ax[2], linecolor='black', linewidths=.1, annot=True, fmt='d').set_title('obscene')\n",
        "sns.heatmap(list_confusion_matrix[3],ax=ax2[0], linecolor='black', linewidths=.1 ,annot=True, fmt='d').set_title('threat')\n",
        "sns.heatmap(list_confusion_matrix[4],ax=ax2[1], linecolor='black', linewidths=.1, annot=True, fmt='d').set_title('insult')\n",
        "sns.heatmap(list_confusion_matrix[5],ax=ax2[2], linecolor='black', linewidths=.1, annot=True, fmt='d').set_title('identity_hate')\n",
        "plt.show()"
      ],
      "execution_count": null,
      "outputs": [
        {
          "output_type": "display_data",
          "data": {
            "image/png": "[encoded data removed]",
            "text/plain": [
              "<Figure size 936x576 with 12 Axes>"
            ]
          },
          "metadata": {
            "tags": []
          }
        }
      ]
    },
    {
      "cell_type": "markdown",
      "metadata": {
        "id": "5TR8YACrWyYj"
      },
      "source": [
        "### Classifier Chain"
      ]
    },
    {
      "cell_type": "code",
      "metadata": {
        "colab": {
          "base_uri": "https://localhost:8080/"
        },
        "id": "yGgAgw3XW1be",
        "outputId": "4ee9b531-6ab4-44cd-a323-f9c82395b96f"
      },
      "source": [
        "start = timer()\n",
        "mnb = MultinomialNB()\n",
        "mnb_clf = classifier_chain(mnb, x_train_vector, y_train)\n",
        "end = timer()\n",
        "print(\"Processing time: %.2f seconds\" % (end-start))"
      ],
      "execution_count": null,
      "outputs": [
        {
          "output_type": "stream",
          "text": [
            "Processing time: 5.48 seconds\n"
          ],
          "name": "stdout"
        }
      ]
    },
    {
      "cell_type": "code",
      "metadata": {
        "colab": {
          "base_uri": "https://localhost:8080/"
        },
        "id": "jIlHPZhkXDnN",
        "outputId": "123cee85-55d7-44d8-98fc-8b224005b14f"
      },
      "source": [
        "mnb_pred = predictions(mnb_clf, x_test_vector)\n",
        "model_accuracy(y_test, mnb_pred)\n",
        "model_hamming_loss(y_test, mnb_pred)"
      ],
      "execution_count": null,
      "outputs": [
        {
          "output_type": "stream",
          "text": [
            "The model accuracy is: 89.13%\n",
            "The model hamming loss is: 3.86%\n"
          ],
          "name": "stdout"
        }
      ]
    },
    {
      "cell_type": "code",
      "metadata": {
        "colab": {
          "base_uri": "https://localhost:8080/",
          "height": 501
        },
        "id": "3K5a6aCe-dQb",
        "outputId": "9e14a033-0d00-435a-f499-30eda2688d8f"
      },
      "source": [
        "array_mnb_pred = mnb_pred.toarray()\n",
        "list_confusion_matrix = []\n",
        "for idx in range(6):\n",
        "  conf_matrix = confusion_matrix(y_test.iloc[:,idx], array_mnb_pred[:,idx])\n",
        "  list_confusion_matrix.append(conf_matrix)\n",
        "\n",
        "fig, (ax, ax2) = plt.subplots(2, 3)\n",
        "sns.set(rc={'figure.figsize':(13,8)})\n",
        "sns.heatmap(list_confusion_matrix[0],ax=ax[0], linecolor='black', linewidths=.1, annot=True, fmt='d').set_title('Toxic')\n",
        "sns.heatmap(list_confusion_matrix[1],ax=ax[1], linecolor='black', linewidths=.1, annot=True, fmt='d').set_title('severe_toxic')\n",
        "sns.heatmap(list_confusion_matrix[2],ax=ax[2], linecolor='black', linewidths=.1, annot=True, fmt='d').set_title('obscene')\n",
        "sns.heatmap(list_confusion_matrix[3],ax=ax2[0], linecolor='black', linewidths=.1 ,annot=True, fmt='d').set_title('threat')\n",
        "sns.heatmap(list_confusion_matrix[4],ax=ax2[1], linecolor='black', linewidths=.1, annot=True, fmt='d').set_title('insult')\n",
        "sns.heatmap(list_confusion_matrix[5],ax=ax2[2], linecolor='black', linewidths=.1, annot=True, fmt='d').set_title('identity_hate')\n",
        "plt.show()"
      ],
      "execution_count": null,
      "outputs": [
        {
          "output_type": "display_data",
          "data": {
            "image/png": "[encoded data removed]",
            "text/plain": [
              "<Figure size 936x576 with 12 Axes>"
            ]
          },
          "metadata": {
            "tags": []
          }
        }
      ]
    },
    {
      "cell_type": "markdown",
      "metadata": {
        "id": "MO4sa2gFXKqY"
      },
      "source": [
        "### Label PowerSet"
      ]
    },
    {
      "cell_type": "code",
      "metadata": {
        "colab": {
          "base_uri": "https://localhost:8080/"
        },
        "id": "uTG0FJtJXMVI",
        "outputId": "43d8309c-8dda-4d52-bb99-6b390ade5b64"
      },
      "source": [
        "start = timer()\n",
        "mnb = MultinomialNB()\n",
        "mnb_clf = label_powerset(mnb, x_train_vector, y_train)\n",
        "end = timer()\n",
        "print(\"Processing time: %.2f seconds\" % (end-start))"
      ],
      "execution_count": null,
      "outputs": [
        {
          "output_type": "stream",
          "text": [
            "Processing time: 3.06 seconds\n"
          ],
          "name": "stdout"
        }
      ]
    },
    {
      "cell_type": "code",
      "metadata": {
        "colab": {
          "base_uri": "https://localhost:8080/"
        },
        "id": "rsSF0bAqXTA3",
        "outputId": "03ac017f-19f2-4c6a-a24e-0e62d3548e8d"
      },
      "source": [
        "mnb_pred = predictions(mnb_clf, x_test_vector)\n",
        "model_accuracy(y_test, mnb_pred)\n",
        "model_hamming_loss(y_test, mnb_pred)"
      ],
      "execution_count": null,
      "outputs": [
        {
          "output_type": "stream",
          "text": [
            "The model accuracy is: 90.08%\n",
            "The model hamming loss is: 3.33%\n"
          ],
          "name": "stdout"
        }
      ]
    },
    {
      "cell_type": "code",
      "metadata": {
        "colab": {
          "base_uri": "https://localhost:8080/",
          "height": 501
        },
        "id": "hCUjwZZv-eND",
        "outputId": "803fa4ef-224c-4d91-b8c4-0741efe221b6"
      },
      "source": [
        "array_mnb_pred = mnb_pred.toarray()\n",
        "list_confusion_matrix = []\n",
        "for idx in range(6):\n",
        "  conf_matrix = confusion_matrix(y_test.iloc[:,idx], array_mnb_pred[:,idx])\n",
        "  list_confusion_matrix.append(conf_matrix)\n",
        "\n",
        "fig, (ax, ax2) = plt.subplots(2, 3)\n",
        "sns.set(rc={'figure.figsize':(13,8)})\n",
        "sns.heatmap(list_confusion_matrix[0],ax=ax[0], linecolor='black', linewidths=.1, annot=True, fmt='d').set_title('Toxic')\n",
        "sns.heatmap(list_confusion_matrix[1],ax=ax[1], linecolor='black', linewidths=.1, annot=True, fmt='d').set_title('severe_toxic')\n",
        "sns.heatmap(list_confusion_matrix[2],ax=ax[2], linecolor='black', linewidths=.1, annot=True, fmt='d').set_title('obscene')\n",
        "sns.heatmap(list_confusion_matrix[3],ax=ax2[0], linecolor='black', linewidths=.1 ,annot=True, fmt='d').set_title('threat')\n",
        "sns.heatmap(list_confusion_matrix[4],ax=ax2[1], linecolor='black', linewidths=.1, annot=True, fmt='d').set_title('insult')\n",
        "sns.heatmap(list_confusion_matrix[5],ax=ax2[2], linecolor='black', linewidths=.1, annot=True, fmt='d').set_title('identity_hate')\n",
        "plt.show()"
      ],
      "execution_count": null,
      "outputs": [
        {
          "output_type": "display_data",
          "data": {
            "image/png": "[encoded data removed]",
            "text/plain": [
              "<Figure size 936x576 with 12 Axes>"
            ]
          },
          "metadata": {
            "tags": []
          }
        }
      ]
    },
    {
      "cell_type": "markdown",
      "metadata": {
        "id": "mdbIV3K2XtrT"
      },
      "source": [
        "## Gaussian NB"
      ]
    },
    {
      "cell_type": "markdown",
      "metadata": {
        "id": "Y62AiqpaYT2A"
      },
      "source": [
        "### Label Powerset"
      ]
    },
    {
      "cell_type": "code",
      "metadata": {
        "colab": {
          "base_uri": "https://localhost:8080/"
        },
        "id": "oC4f-xKYX4CX",
        "outputId": "7928922d-402a-4e9f-bea2-ecae37ae708f"
      },
      "source": [
        "start = timer()\n",
        "gnb = GaussianNB()\n",
        "gnb_clf = label_powerset(gnb, x_train_vector, y_train)\n",
        "end = timer()\n",
        "print(\"Processing time: %.2f seconds\" % (end-start))"
      ],
      "execution_count": null,
      "outputs": [
        {
          "output_type": "stream",
          "text": [
            "Processing time: 4.35 seconds\n"
          ],
          "name": "stdout"
        }
      ]
    },
    {
      "cell_type": "code",
      "metadata": {
        "colab": {
          "base_uri": "https://localhost:8080/"
        },
        "id": "5yvAYQgUYBsi",
        "outputId": "3f9502bd-fb77-432a-df6d-55c992d5bfb5"
      },
      "source": [
        "gnb_pred = predictions(gnb_clf, x_test_vector)\n",
        "model_accuracy(y_test, gnb_pred)\n",
        "model_hamming_loss(y_test, gnb_pred)"
      ],
      "execution_count": null,
      "outputs": [
        {
          "output_type": "stream",
          "text": [
            "The model accuracy is: 38.97%\n",
            "The model hamming loss is: 20.50%\n"
          ],
          "name": "stdout"
        }
      ]
    },
    {
      "cell_type": "markdown",
      "metadata": {
        "id": "7f4rRWuYYX_l"
      },
      "source": [
        "### Binary Relevance"
      ]
    },
    {
      "cell_type": "code",
      "metadata": {
        "colab": {
          "base_uri": "https://localhost:8080/"
        },
        "id": "5s9t2jm0Yc-l",
        "outputId": "83e95d16-e29d-4ca0-b74b-2998a1e17302"
      },
      "source": [
        "start = timer()\n",
        "gnb = GaussianNB()\n",
        "gnb_clf = binary_relevance(gnb, x_train_vector, y_train)\n",
        "end = timer()\n",
        "print(\"Processing time: %.2f seconds\" % (end-start))"
      ],
      "execution_count": null,
      "outputs": [
        {
          "output_type": "stream",
          "text": [
            "Processing time: 12.48 seconds\n"
          ],
          "name": "stdout"
        }
      ]
    },
    {
      "cell_type": "code",
      "metadata": {
        "colab": {
          "base_uri": "https://localhost:8080/"
        },
        "id": "H7K5dPyOYhSD",
        "outputId": "22ebd63e-5b11-42e6-f0a5-6bbbaa47c9cd"
      },
      "source": [
        "gnb_pred = predictions(gnb_clf, x_test_vector)\n",
        "model_accuracy(y_test, gnb_pred)\n",
        "model_hamming_loss(y_test, gnb_pred)"
      ],
      "execution_count": null,
      "outputs": [
        {
          "output_type": "stream",
          "text": [
            "The model accuracy is: 64.79%\n",
            "The model hamming loss is: 15.94%\n"
          ],
          "name": "stdout"
        }
      ]
    },
    {
      "cell_type": "markdown",
      "metadata": {
        "id": "IT8wz9ZJYmH9"
      },
      "source": [
        "### Classifier Chain"
      ]
    },
    {
      "cell_type": "code",
      "metadata": {
        "colab": {
          "base_uri": "https://localhost:8080/"
        },
        "id": "JxgLiqxsYxXy",
        "outputId": "4af64a9f-f843-4403-8558-f1bdcb86e039"
      },
      "source": [
        "start = timer()\n",
        "gnb = GaussianNB()\n",
        "gnb_clf = classifier_chain(gnb, x_train_vector, y_train)\n",
        "end = timer()\n",
        "print(\"Processing time: %.2f seconds\" % (end-start))"
      ],
      "execution_count": null,
      "outputs": [
        {
          "output_type": "stream",
          "text": [
            "Processing time: 14.62 seconds\n"
          ],
          "name": "stdout"
        }
      ]
    },
    {
      "cell_type": "code",
      "metadata": {
        "colab": {
          "base_uri": "https://localhost:8080/"
        },
        "id": "5MVdfkn-Yvxj",
        "outputId": "498e99c7-5829-41ac-a38e-667863ddde8d"
      },
      "source": [
        "gnb_pred = predictions(gnb_clf, x_test_vector)\n",
        "model_accuracy(y_test, gnb_pred)\n",
        "model_hamming_loss(y_test, gnb_pred)"
      ],
      "execution_count": null,
      "outputs": [
        {
          "output_type": "stream",
          "text": [
            "The model accuracy is: 67.10%\n",
            "The model hamming loss is: 15.55%\n"
          ],
          "name": "stdout"
        }
      ]
    }
  ]
}